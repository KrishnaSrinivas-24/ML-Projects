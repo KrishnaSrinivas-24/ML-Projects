{
  "nbformat": 4,
  "nbformat_minor": 0,
  "metadata": {
    "colab": {
      "provenance": []
    },
    "kernelspec": {
      "name": "python3",
      "display_name": "Python 3"
    },
    "language_info": {
      "name": "python"
    }
  },
  "cells": [
    {
      "cell_type": "code",
      "execution_count": 10,
      "metadata": {
        "id": "hKwBDeLuRDWL"
      },
      "outputs": [],
      "source": [
        "# --- 1. Data Handling and Setup: Import all necessary libraries ---\n",
        "# These are the essential tools we'll need for data manipulation, NLP,\n",
        "# machine learning, and visualization.\n",
        "\n",
        "# Data handling libraries\n",
        "import pandas as pd\n",
        "import numpy as np\n",
        "\n",
        "# NLP preprocessing libraries\n",
        "import re # For regular expressions (e.g., removing punctuation)\n",
        "import string # For string operations\n",
        "import nltk # Natural Language Toolkit\n",
        "from nltk.corpus import stopwords # For removing common words that don't add much meaning\n",
        "from nltk.tokenize import word_tokenize # For breaking text into words (though we'll use .split() here)\n",
        "from nltk.stem import WordNetLemmatizer # For reducing words to their base form (e.g., \"running\" -> \"run\")\n",
        "\n",
        "# Feature extraction library\n",
        "from sklearn.feature_extraction.text import TfidfVectorizer # To convert text into numerical features\n",
        "\n",
        "# Label encoding & splitting libraries\n",
        "from sklearn.preprocessing import LabelEncoder # To convert categorical labels into numerical ones\n",
        "from sklearn.model_selection import train_test_split # To divide our data into training and testing sets\n",
        "\n",
        "# Model library\n",
        "from sklearn.linear_model import LogisticRegression # Our chosen classification algorithm\n",
        "\n",
        "# Evaluation metrics libraries\n",
        "from sklearn.metrics import accuracy_score, confusion_matrix, classification_report # To assess model performance\n",
        "\n",
        "# Visualization libraries (optional but great for understanding results)\n",
        "import seaborn as sns # For creating attractive statistical graphics\n",
        "import matplotlib.pyplot as plt # For plotting and visualization"
      ]
    },
    {
      "cell_type": "code",
      "source": [
        "# --- Download necessary NLTK data (run once) ---\n",
        "# These datasets are crucial for stopword removal and lemmatization.\n",
        "# We'll use a try-except block to download them only if they're not already present,\n",
        "# which helps avoid errors and unnecessary downloads on subsequent runs.\n",
        "print(\"Checking for NLTK data downloads...\")\n",
        "try:\n",
        "    nltk.data.find('corpora/stopwords')\n",
        "except LookupError: # NLTK raises LookupError if a resource is not found\n",
        "    print(\"Downloading 'stopwords'...\")\n",
        "    nltk.download('stopwords')\n",
        "try:\n",
        "    nltk.data.find('corpora/wordnet')\n",
        "except LookupError:\n",
        "    print(\"Downloading 'wordnet'...\")\n",
        "    nltk.download('wordnet')\n",
        "try:\n",
        "    nltk.data.find('tokenizers/punkt') # 'punkt' is often needed for tokenization, good to have\n",
        "except LookupError:\n",
        "    print(\"Downloading 'punkt'...\")\n",
        "    nltk.download('punkt')\n",
        "print(\"NLTK data check complete.\")\n"
      ],
      "metadata": {
        "colab": {
          "base_uri": "https://localhost:8080/"
        },
        "id": "Q_f8WhNjRZMO",
        "outputId": "0ae44d48-0ac9-4f44-f67f-d8fd4e1db646"
      },
      "execution_count": 11,
      "outputs": [
        {
          "output_type": "stream",
          "name": "stdout",
          "text": [
            "Checking for NLTK data downloads...\n",
            "Downloading 'wordnet'...\n",
            "NLTK data check complete.\n"
          ]
        },
        {
          "output_type": "stream",
          "name": "stderr",
          "text": [
            "[nltk_data] Downloading package wordnet to /root/nltk_data...\n",
            "[nltk_data]   Package wordnet is already up-to-date!\n"
          ]
        }
      ]
    },
    {
      "cell_type": "code",
      "source": [
        "# --- 2. Load the Dataset ---\n",
        "# We're loading the customer reviews from the 'samsung_customer_reviews.csv' file.\n",
        "# The path '/content/' is common for files uploaded in Google Colab.\n",
        "print(\"\\n--- Loading Dataset ---\")\n",
        "try:\n",
        "    df = pd.read_csv('/content/samsung_customer_reviews.csv')\n",
        "    print(\"Dataset 'samsung_customer_reviews.csv' loaded successfully.\")\n",
        "    print(\"First 5 rows of the original DataFrame:\")\n",
        "    print(df.head())\n",
        "except FileNotFoundError:\n",
        "    print(\"Error: 'samsung_customer_reviews.csv' not found at '/content/'.\")\n",
        "    print(\"Please ensure the dataset is uploaded to the correct path.\")\n",
        "    print(\"Creating a dummy DataFrame for demonstration purposes to allow the code to run.\")\n",
        "    # Create a small dummy DataFrame if the file isn't found,\n",
        "    # so the rest of the code can still execute for demonstration.\n",
        "    data = {'Review Text': [\"This phone is absolutely amazing, I love it so much!\",\n",
        "                            \"Battery life is shockingly terrible, very disappointed.\",\n",
        "                            \"It's just okay, nothing special to write home about.\",\n",
        "                            \"Great camera quality and super fast performance, highly recommend.\",\n",
        "                            \"Very disappointed with the screen, it's quite dim.\",\n",
        "                            \"Good value for money, but not outstanding.\",\n",
        "                            \"Worst phone ever, avoid at all costs, a complete waste of money.\"],\n",
        "            'Rating': [5, 1, 3, 4, 2, 4, 1]}\n",
        "    df = pd.DataFrame(data)\n",
        "    print(\"Dummy DataFrame head:\")\n",
        "    print(df.head())"
      ],
      "metadata": {
        "colab": {
          "base_uri": "https://localhost:8080/"
        },
        "id": "diS5fmjKRfBy",
        "outputId": "c9145fc3-11e0-4dd5-a0fd-33706ad6f389"
      },
      "execution_count": 12,
      "outputs": [
        {
          "output_type": "stream",
          "name": "stdout",
          "text": [
            "\n",
            "--- Loading Dataset ---\n",
            "Dataset 'samsung_customer_reviews.csv' loaded successfully.\n",
            "First 5 rows of the original DataFrame:\n",
            "  Review ID             Product Name                             Review Text  \\\n",
            "0     R0001    Samsung Galaxy Watch6                Love the camera quality!   \n",
            "1     R0002          Samsung QLED TV             Highly recommend to others!   \n",
            "2     R0003  Samsung Air Conditioner                Love the camera quality!   \n",
            "3     R0004          Samsung QLED TV           Battery life could be better.   \n",
            "4     R0005       Samsung Galaxy S22  Heats up sometimes during heavy usage.   \n",
            "\n",
            "   Rating Review Date Customer Name  \n",
            "0       1  2024-09-16    Jessica P.  \n",
            "1       4  2023-01-29    Bradley B.  \n",
            "2       1  2023-11-29    Suzanne M.  \n",
            "3       2  2023-10-25    Jeffery A.  \n",
            "4       3  2023-11-14      Lance M.  \n"
          ]
        }
      ]
    },
    {
      "cell_type": "code",
      "source": [
        "# --- 3. Initial Data Cleaning and Sentiment Definition ---\n",
        "# Here, we'll refine our dataset by selecting relevant columns,\n",
        "# handling missing values, and defining sentiment categories.\n",
        "\n",
        "print(\"\\n--- Initial Data Cleaning and Sentiment Definition ---\")\n",
        "\n",
        "# Keep only the 'Review Text' and 'Rating' columns, as these are what we need.\n",
        "df = df[['Review Text', 'Rating']]\n",
        "print(f\"DataFrame columns after selection: {df.columns.tolist()}\")\n",
        "\n",
        "# Drop any rows where 'Review Text' or 'Rating' is missing (NaN).\n",
        "# This ensures we only work with complete review entries.\n",
        "df.dropna(inplace=True)\n",
        "print(f\"DataFrame shape after dropping rows with missing values: {df.shape}\")\n",
        "\n",
        "# Define a function to categorize ratings into sentiments.\n",
        "# We'll classify reviews as 'positive', 'negative', or 'neutral'.\n",
        "def get_sentiment(rating):\n",
        "    \"\"\"\n",
        "    Assigns a sentiment label based on the numerical rating:\n",
        "    - 'negative' for ratings 1 or 2\n",
        "    - 'positive' for ratings 4 or 5\n",
        "    - 'neutral' for rating 3\n",
        "    \"\"\"\n",
        "    if rating <= 2:\n",
        "        return 'negative'\n",
        "    elif rating >= 4:\n",
        "        return 'positive'\n",
        "    else:\n",
        "        return 'neutral'\n",
        "\n",
        "# Apply the 'get_sentiment' function to create a new 'sentiment' column.\n",
        "df['sentiment'] = df['Rating'].apply(get_sentiment)\n",
        "print(\"New 'sentiment' column created based on 'Rating'.\")\n",
        "\n",
        "# Optional but crucial for binary classification:\n",
        "# Drop rows where the sentiment is 'neutral'.\n",
        "# For this task, we're focusing on distinguishing between clearly positive and negative reviews.\n",
        "df = df[df['sentiment'] != 'neutral'].copy() # Using .copy() to prevent SettingWithCopyWarning\n",
        "print(\"Neutral sentiment reviews have been removed.\")\n",
        "\n",
        "# Reset the DataFrame index after filtering to make sure it's continuous.\n",
        "df.reset_index(drop=True, inplace=True)\n",
        "\n",
        "print(\"\\nFirst 5 rows of DataFrame after sentiment definition and neutral removal:\")\n",
        "print(df.head())\n",
        "print(\"\\nDistribution of sentiment categories:\")\n",
        "print(df['sentiment'].value_counts())\n",
        "\n",
        "# Double-check for any unexpected missing values in the sentiment column.\n",
        "print(f\"Number of NaN values in 'sentiment' column: {df['sentiment'].isna().sum()}\")"
      ],
      "metadata": {
        "colab": {
          "base_uri": "https://localhost:8080/"
        },
        "id": "iJADqXn2RkVe",
        "outputId": "d939f77c-eac5-4c93-ae02-1b4df61f3ccb"
      },
      "execution_count": 13,
      "outputs": [
        {
          "output_type": "stream",
          "name": "stdout",
          "text": [
            "\n",
            "--- Initial Data Cleaning and Sentiment Definition ---\n",
            "DataFrame columns after selection: ['Review Text', 'Rating']\n",
            "DataFrame shape after dropping rows with missing values: (1000, 2)\n",
            "New 'sentiment' column created based on 'Rating'.\n",
            "Neutral sentiment reviews have been removed.\n",
            "\n",
            "First 5 rows of DataFrame after sentiment definition and neutral removal:\n",
            "                                       Review Text  Rating sentiment\n",
            "0                         Love the camera quality!       1  negative\n",
            "1                      Highly recommend to others!       4  positive\n",
            "2                         Love the camera quality!       1  negative\n",
            "3                    Battery life could be better.       2  negative\n",
            "4  Delivery was delayed, but the product is great.       5  positive\n",
            "\n",
            "Distribution of sentiment categories:\n",
            "sentiment\n",
            "negative    419\n",
            "positive    379\n",
            "Name: count, dtype: int64\n",
            "Number of NaN values in 'sentiment' column: 0\n"
          ]
        }
      ]
    },
    {
      "cell_type": "code",
      "source": [
        "# --- 4. Text Preprocessing ---\n",
        "# This is a critical step to clean the raw text data, making it suitable for\n",
        "# machine learning models. We'll perform lowercasing, remove punctuation/numbers,\n",
        "# remove stopwords, and lemmatize words.\n",
        "\n",
        "print(\"\\n--- Text Preprocessing ---\")\n",
        "\n",
        "# Initialize NLTK's stop words set and the lemmatizer.\n",
        "# Having stopwords in a set makes lookup very fast.\n",
        "stop_words = set(stopwords.words('english'))\n",
        "lemmatizer = WordNetLemmatizer()\n",
        "\n",
        "# Define the text preprocessing function.\n",
        "def preprocess_text(text):\n",
        "    \"\"\"\n",
        "    Applies several text cleaning and normalization steps:\n",
        "    1. Converts text to lowercase.\n",
        "    2. Removes all characters that are not lowercase letters or spaces.\n",
        "    3. Splits the text into individual words (tokenization).\n",
        "    4. Removes common English stopwords from the word list.\n",
        "    5. Reduces words to their base form (lemmatization).\n",
        "    6. Joins the processed words back into a single string.\n",
        "    \"\"\"\n",
        "    # Ensure the input is a string to prevent errors\n",
        "    if not isinstance(text, str):\n",
        "        return \"\" # Return an empty string for non-string inputs\n",
        "\n",
        "    # Convert text to lowercase\n",
        "    text = text.lower()\n",
        "    # Remove punctuation and numbers using a regular expression.\n",
        "    # This keeps only alphabetic characters and spaces.\n",
        "    text = re.sub(r'[^a-z\\s]', '', text)\n",
        "    # Tokenize the text by splitting it into words.\n",
        "    words = text.split()\n",
        "    # Remove stopwords and lemmatize each word.\n",
        "    # We iterate through words, check if they are stopwords, and then lemmatize.\n",
        "    words = [lemmatizer.lemmatize(word) for word in words if word not in stop_words]\n",
        "    # Join the cleaned and lemmatized words back into a single string, separated by spaces.\n",
        "    return ' '.join(words)\n",
        "\n",
        "# Apply the 'preprocess_text' function to the 'Review Text' column\n",
        "# and store the results in a new 'cleaned_text' column.\n",
        "df['cleaned_text'] = df['Review Text'].apply(preprocess_text)\n",
        "\n",
        "print(\"\\nComparison of Original vs. Cleaned Text (first 5 rows):\")\n",
        "print(df[['Review Text', 'cleaned_text']].head())"
      ],
      "metadata": {
        "colab": {
          "base_uri": "https://localhost:8080/"
        },
        "id": "PUUZSCt9Rw4w",
        "outputId": "0a5969f1-1754-4551-8310-b4a991b7ae6b"
      },
      "execution_count": 14,
      "outputs": [
        {
          "output_type": "stream",
          "name": "stdout",
          "text": [
            "\n",
            "--- Text Preprocessing ---\n",
            "\n",
            "Comparison of Original vs. Cleaned Text (first 5 rows):\n",
            "                                       Review Text  \\\n",
            "0                         Love the camera quality!   \n",
            "1                      Highly recommend to others!   \n",
            "2                         Love the camera quality!   \n",
            "3                    Battery life could be better.   \n",
            "4  Delivery was delayed, but the product is great.   \n",
            "\n",
            "                     cleaned_text  \n",
            "0             love camera quality  \n",
            "1         highly recommend others  \n",
            "2             love camera quality  \n",
            "3       battery life could better  \n",
            "4  delivery delayed product great  \n"
          ]
        }
      ]
    },
    {
      "cell_type": "code",
      "source": [
        "# --- 5. Feature Extraction: TF-IDF Vectorization ---\n",
        "# Machine learning models can't directly understand text. TF-IDF (Term Frequency-Inverse Document Frequency)\n",
        "# is a numerical statistic that reflects how important a word is to a document in a collection or corpus.\n",
        "# It converts our cleaned text into a numerical matrix.\n",
        "\n",
        "print(\"\\n--- Feature Extraction: TF-IDF Vectorization ---\")\n",
        "\n",
        "# Convert sentiment labels to numerical format.\n",
        "# Logistic Regression models typically require numerical labels (0 and 1).\n",
        "# 'negative' will be 0, and 'positive' will be 1.\n",
        "df['sentiment'] = df['sentiment'].map({'negative': 0, 'positive': 1})\n",
        "print(\"Sentiment labels mapped to numerical values (0: Negative, 1: Positive).\")\n",
        "\n",
        "# Initialize the TF-IDF Vectorizer.\n",
        "# - max_features=5000: We'll consider the 5000 most frequently occurring words/n-grams.\n",
        "#   This helps manage dimensionality and focus on the most informative features.\n",
        "# - stop_words='english': The vectorizer will automatically remove common English stopwords.\n",
        "# - ngram_range=(1, 2): This means the vectorizer will create features for single words (unigrams)\n",
        "#   and pairs of words (bigrams). Bigrams can capture more context (e.g., \"not good\").\n",
        "tfidf = TfidfVectorizer(\n",
        "    max_features=5000,\n",
        "    stop_words='english',\n",
        "    ngram_range=(1, 2)\n",
        ")\n",
        "\n",
        "# Check if the DataFrame is empty after all the filtering steps.\n",
        "# If it's empty, we cannot proceed with TF-IDF or model training.\n",
        "if df.empty:\n",
        "    print(\"\\nWarning: DataFrame is empty after filtering for positive/negative sentiments.\")\n",
        "    print(\"Cannot proceed with TF-IDF vectorization and model training.\")\n",
        "else:\n",
        "    # Transform the 'cleaned_text' into TF-IDF features.\n",
        "    # `fit_transform` learns the vocabulary and IDF values, then transforms the text.\n",
        "    X = tfidf.fit_transform(df['cleaned_text'])\n",
        "    # Our target variable (dependent variable) is the numerical sentiment.\n",
        "    y = df['sentiment']\n",
        "\n",
        "    print(f\"\\nShape of TF-IDF Matrix (X): {X.shape} (rows: reviews, columns: features/words)\")\n",
        "    print(f\"Shape of Sentiment Labels (y): {y.shape}\")\n",
        "\n",
        "\n",
        "    # --- 6. Model Training and Evaluation: Logistic Regression ---\n",
        "    # Now that our data is prepared, we'll split it into training and testing sets,\n",
        "    # train a Logistic Regression model, and then evaluate its performance.\n",
        "\n",
        "    print(\"\\n--- Model Training and Evaluation ---\")\n",
        "\n",
        "    # Split the data into training and testing sets.\n",
        "    # - test_size=0.2: 20% of the data will be used for testing, 80% for training.\n",
        "    # - stratify=y: This is crucial! It ensures that the proportion of positive and negative\n",
        "    #   sentiments in the training set is roughly the same as in the test set. This is\n",
        "    #   important if one sentiment class is much more common than the other.\n",
        "    # - random_state=42: This makes our split reproducible. If you run the code again,\n",
        "    #   you'll get the exact same training and testing sets.\n",
        "    X_train, X_test, y_train, y_test = train_test_split(\n",
        "        X, y, test_size=0.2, stratify=y, random_state=42\n",
        "    )\n",
        "\n",
        "    print(f\"\\nTraining data (X_train) shape: {X_train.shape}\")\n",
        "    print(f\"Testing data (X_test) shape: {X_test.shape}\")\n",
        "    print(f\"Training labels (y_train) shape: {y_train.shape}\")\n",
        "    print(f\"Testing labels (y_test) shape: {y_test.shape}\")\n",
        "\n",
        "    # Initialize the Logistic Regression model.\n",
        "    # - max_iter=1000: Increased maximum iterations to ensure the model converges.\n",
        "    #   Sometimes, the default iterations might not be enough for complex datasets.\n",
        "    model = LogisticRegression(max_iter=1000)\n",
        "    # Train the model using the training data.\n",
        "    model.fit(X_train, y_train)\n",
        "    print(\"\\nLogistic Regression model trained successfully on the training data.\")\n",
        "\n",
        "    # Make predictions on the unseen test set.\n",
        "    y_pred = model.predict(X_test)\n",
        "    print(\"Predictions made on the test set.\")\n",
        "\n",
        "    # --- Evaluate the model's performance ---\n",
        "    print(\"\\n--- Model Performance Metrics ---\")\n",
        "\n",
        "    # Accuracy Score: The proportion of correctly classified instances (reviews).\n",
        "    print(\"Accuracy Score:\", accuracy_score(y_test, y_pred))\n",
        "\n",
        "    # Classification Report: Provides detailed metrics for each class (0: Negative, 1: Positive).\n",
        "    # - Precision: Of all predicted positives, how many were actually positive?\n",
        "    # - Recall: Of all actual positives, how many did the model correctly identify?\n",
        "    # - F1-score: The harmonic mean of precision and recall, useful for imbalanced classes.\n",
        "    # - Support: The number of actual occurrences of each class in the test set.\n",
        "    print(\"\\nClassification Report:\\n\", classification_report(y_test, y_pred))"
      ],
      "metadata": {
        "colab": {
          "base_uri": "https://localhost:8080/"
        },
        "id": "AlbjWkAgR0ci",
        "outputId": "dabb7d5c-dcea-4e56-b66a-28a4ee85bda1"
      },
      "execution_count": 15,
      "outputs": [
        {
          "output_type": "stream",
          "name": "stdout",
          "text": [
            "\n",
            "--- Feature Extraction: TF-IDF Vectorization ---\n",
            "Sentiment labels mapped to numerical values (0: Negative, 1: Positive).\n",
            "\n",
            "Shape of TF-IDF Matrix (X): (798, 86) (rows: reviews, columns: features/words)\n",
            "Shape of Sentiment Labels (y): (798,)\n",
            "\n",
            "--- Model Training and Evaluation ---\n",
            "\n",
            "Training data (X_train) shape: (638, 86)\n",
            "Testing data (X_test) shape: (160, 86)\n",
            "Training labels (y_train) shape: (638,)\n",
            "Testing labels (y_test) shape: (160,)\n",
            "\n",
            "Logistic Regression model trained successfully on the training data.\n",
            "Predictions made on the test set.\n",
            "\n",
            "--- Model Performance Metrics ---\n",
            "Accuracy Score: 0.5\n",
            "\n",
            "Classification Report:\n",
            "               precision    recall  f1-score   support\n",
            "\n",
            "           0       0.52      0.69      0.59        84\n",
            "           1       0.46      0.29      0.35        76\n",
            "\n",
            "    accuracy                           0.50       160\n",
            "   macro avg       0.49      0.49      0.47       160\n",
            "weighted avg       0.49      0.50      0.48       160\n",
            "\n"
          ]
        }
      ]
    },
    {
      "cell_type": "code",
      "source": [
        "    # --- Optional: Visualize the Confusion Matrix ---\n",
        "    # A confusion matrix is a table that is often used to describe the performance\n",
        "    # of a classification model on a set of test data for which the true values are known.\n",
        "    # It helps us see where the model is making errors (e.g., false positives, false negatives).\n",
        "    conf_matrix = confusion_matrix(y_test, y_pred)\n",
        "    plt.figure(figsize=(8, 6)) # Set the size of the plot\n",
        "    sns.heatmap(conf_matrix, annot=True, fmt='d', cmap='Blues', # `annot=True` shows values, `fmt='d'` formats as integers\n",
        "                xticklabels=['Predicted Negative (0)', 'Predicted Positive (1)'], # Labels for predicted classes\n",
        "                yticklabels=['Actual Negative (0)', 'Actual Positive (1)']) # Labels for actual classes\n",
        "    plt.xlabel(\"Predicted Label\")\n",
        "    plt.ylabel(\"True Label\")\n",
        "    plt.title(\"Confusion Matrix for Sentiment Analysis\")\n",
        "    plt.show() # Display the plot\n",
        "\n",
        "    print(\"\\nSentiment analysis pipeline completed successfully!\")"
      ],
      "metadata": {
        "colab": {
          "base_uri": "https://localhost:8080/",
          "height": 599
        },
        "id": "NvJFBlEZR8AH",
        "outputId": "d8dcbb20-6fec-4b93-9d14-ebc0eb3661be"
      },
      "execution_count": 16,
      "outputs": [
        {
          "output_type": "display_data",
          "data": {
            "text/plain": [
              "<Figure size 800x600 with 2 Axes>"
            ],
            "image/png": "[encoded data removed]"
          },
          "metadata": {}
        },
        {
          "output_type": "stream",
          "name": "stdout",
          "text": [
            "\n",
            "Sentiment analysis pipeline completed successfully!\n"
          ]
        }
      ]
    }
  ]
}