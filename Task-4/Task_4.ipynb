{
  "nbformat": 4,
  "nbformat_minor": 0,
  "metadata": {
    "colab": {
      "provenance": []
    },
    "kernelspec": {
      "name": "python3",
      "display_name": "Python 3"
    },
    "language_info": {
      "name": "python"
    }
  },
  "cells": [
    {
      "cell_type": "code",
      "execution_count": 4,
      "metadata": {
        "colab": {
          "base_uri": "https://localhost:8080/"
        },
        "id": "1Fdgu0RTSJt8",
        "outputId": "16de80cf-6178-40c8-a2ae-d05cd196f20d"
      },
      "outputs": [
        {
          "output_type": "stream",
          "name": "stdout",
          "text": [
            "Requirement already satisfied: numpy==1.23.5 in /usr/local/lib/python3.11/dist-packages (1.23.5)\n",
            "Collecting scikit-surprise\n",
            "  Using cached scikit_surprise-1.1.4.tar.gz (154 kB)\n",
            "  Installing build dependencies ... \u001b[?25l\u001b[?25hdone\n",
            "  Getting requirements to build wheel ... \u001b[?25l\u001b[?25hdone\n",
            "  Preparing metadata (pyproject.toml) ... \u001b[?25l\u001b[?25hdone\n",
            "Requirement already satisfied: joblib>=1.2.0 in /usr/local/lib/python3.11/dist-packages (from scikit-surprise) (1.5.1)\n",
            "Requirement already satisfied: numpy>=1.19.5 in /usr/local/lib/python3.11/dist-packages (from scikit-surprise) (1.23.5)\n",
            "Requirement already satisfied: scipy>=1.6.0 in /usr/local/lib/python3.11/dist-packages (from scikit-surprise) (1.15.3)\n",
            "Building wheels for collected packages: scikit-surprise\n",
            "  Building wheel for scikit-surprise (pyproject.toml) ... \u001b[?25l\u001b[?25hdone\n",
            "  Created wheel for scikit-surprise: filename=scikit_surprise-1.1.4-cp311-cp311-linux_x86_64.whl size=2469550 sha256=a55ebad8afb326db270ad081f122d84551f899d047bdfb90c7d35685b4316357\n",
            "  Stored in directory: /root/.cache/pip/wheels/2a/8f/6e/7e2899163e2d85d8266daab4aa1cdabec7a6c56f83c015b5af\n",
            "Successfully built scikit-surprise\n",
            "Installing collected packages: scikit-surprise\n",
            "Successfully installed scikit-surprise-1.1.4\n"
          ]
        }
      ],
      "source": [
        "# 🧠 Task 4: Movie Recommendation System using SVD (MovieLens 100k)\n",
        "\n",
        "# 🛠️ Fix NumPy version compatibility for scikit-surprise\n",
        "!pip install numpy==1.23.5\n",
        "!pip install scikit-surprise --no-binary :all:"
      ]
    },
    {
      "cell_type": "code",
      "source": [
        "# 🔄 Restart runtime manually after running the above 2 cells\n",
        "# Then run the rest of this code ⬇️"
      ],
      "metadata": {
        "id": "J0yy_AkjTxgv"
      },
      "execution_count": 5,
      "outputs": []
    },
    {
      "cell_type": "code",
      "source": [
        "# ✅ Imports (run after restart)\n",
        "from surprise import Dataset, Reader, SVD\n",
        "from surprise.model_selection import train_test_split, cross_validate\n",
        "from surprise import accuracy\n",
        "import pandas as pd\n",
        "from collections import defaultdict"
      ],
      "metadata": {
        "id": "5hiePCI6Tzm-"
      },
      "execution_count": 6,
      "outputs": []
    },
    {
      "cell_type": "code",
      "source": [
        "# Load built-in MovieLens 100k dataset\n",
        "data = Dataset.load_builtin('ml-100k')"
      ],
      "metadata": {
        "id": "4cjPx0_3T10h",
        "colab": {
          "base_uri": "https://localhost:8080/"
        },
        "outputId": "995cc1a0-ccb4-419e-8b3d-dce9948350ad"
      },
      "execution_count": 7,
      "outputs": [
        {
          "output_type": "stream",
          "name": "stdout",
          "text": [
            "Dataset ml-100k could not be found. Do you want to download it? [Y/n] Y\n",
            "Trying to download dataset from https://files.grouplens.org/datasets/movielens/ml-100k.zip...\n",
            "Done! Dataset ml-100k has been saved to /root/.surprise_data/ml-100k\n"
          ]
        }
      ]
    },
    {
      "cell_type": "code",
      "source": [
        "# Train-test split\n",
        "trainset, testset = train_test_split(data, test_size=0.2, random_state=42)"
      ],
      "metadata": {
        "id": "UFmu7BojT4sz"
      },
      "execution_count": 8,
      "outputs": []
    },
    {
      "cell_type": "code",
      "source": [
        "# Use SVD algorithm\n",
        "model = SVD()\n",
        "model.fit(trainset)"
      ],
      "metadata": {
        "id": "US5Xy0hgT6-k",
        "colab": {
          "base_uri": "https://localhost:8080/"
        },
        "outputId": "d1212851-7451-472f-a542-5993ca12a8ca"
      },
      "execution_count": 9,
      "outputs": [
        {
          "output_type": "execute_result",
          "data": {
            "text/plain": [
              "<surprise.prediction_algorithms.matrix_factorization.SVD at 0x7ab5babf3010>"
            ]
          },
          "metadata": {},
          "execution_count": 9
        }
      ]
    },
    {
      "cell_type": "code",
      "source": [
        "# Predict on test data\n",
        "predictions = model.test(testset)"
      ],
      "metadata": {
        "id": "nQz2C1DyT-rF"
      },
      "execution_count": 10,
      "outputs": []
    },
    {
      "cell_type": "code",
      "source": [
        "# Evaluate model\n",
        "rmse = accuracy.rmse(predictions)\n",
        "mae = accuracy.mae(predictions)"
      ],
      "metadata": {
        "id": "NwDGNSiRT_Mu",
        "colab": {
          "base_uri": "https://localhost:8080/"
        },
        "outputId": "c56bc173-f7a1-4bc0-97e3-aafb41581007"
      },
      "execution_count": 11,
      "outputs": [
        {
          "output_type": "stream",
          "name": "stdout",
          "text": [
            "RMSE: 0.9351\n",
            "MAE:  0.7366\n"
          ]
        }
      ]
    },
    {
      "cell_type": "code",
      "source": [
        "# Cross-validation scores\n",
        "cross_validate(model, data, measures=['RMSE', 'MAE'], cv=5, verbose=True)"
      ],
      "metadata": {
        "id": "mTeQV2RaUC8o",
        "colab": {
          "base_uri": "https://localhost:8080/"
        },
        "outputId": "f0ad32c5-029f-4555-f78d-8f09893d2b8e"
      },
      "execution_count": 12,
      "outputs": [
        {
          "output_type": "stream",
          "name": "stdout",
          "text": [
            "Evaluating RMSE, MAE of algorithm SVD on 5 split(s).\n",
            "\n",
            "                  Fold 1  Fold 2  Fold 3  Fold 4  Fold 5  Mean    Std     \n",
            "RMSE (testset)    0.9373  0.9292  0.9358  0.9395  0.9327  0.9349  0.0036  \n",
            "MAE (testset)     0.7373  0.7304  0.7373  0.7429  0.7366  0.7369  0.0040  \n",
            "Fit time          1.12    1.46    1.46    1.14    1.12    1.26    0.17    \n",
            "Test time         0.21    0.18    0.11    0.26    0.12    0.18    0.06    \n"
          ]
        },
        {
          "output_type": "execute_result",
          "data": {
            "text/plain": [
              "{'test_rmse': array([0.93727208, 0.92921718, 0.93580162, 0.93953175, 0.93271871]),\n",
              " 'test_mae': array([0.73728495, 0.73035889, 0.73725511, 0.74289437, 0.73659386]),\n",
              " 'fit_time': (1.120807409286499,\n",
              "  1.4640130996704102,\n",
              "  1.4642961025238037,\n",
              "  1.1360220909118652,\n",
              "  1.1243417263031006),\n",
              " 'test_time': (0.2103714942932129,\n",
              "  0.17505431175231934,\n",
              "  0.11185789108276367,\n",
              "  0.2628357410430908,\n",
              "  0.12025046348571777)}"
            ]
          },
          "metadata": {},
          "execution_count": 12
        }
      ]
    },
    {
      "cell_type": "code",
      "source": [
        "# Recommend top 5 movies for a given user\n",
        "def get_top_n(predictions, n=5):\n",
        "    from collections import defaultdict\n",
        "    top_n = defaultdict(list)\n",
        "    for uid, iid, true_r, est, _ in predictions:\n",
        "        top_n[uid].append((iid, est))\n",
        "    for uid, user_ratings in top_n.items():\n",
        "        user_ratings.sort(key=lambda x: x[1], reverse=True)\n",
        "        top_n[uid] = user_ratings[:n]\n",
        "    return top_n\n",
        "\n",
        "top_n_recommendations = get_top_n(predictions, n=5)\n"
      ],
      "metadata": {
        "id": "bqVvt4aLUGdC"
      },
      "execution_count": 13,
      "outputs": []
    },
    {
      "cell_type": "code",
      "source": [
        "# Print top 5 movie IDs recommended for user '196'\n",
        "print(\"Top 5 movie IDs recommended for user 196:\")\n",
        "for movie_id, rating in top_n_recommendations['196']:\n",
        "    print(f\"Movie ID: {movie_id}, Predicted Rating: {rating:.2f}\")"
      ],
      "metadata": {
        "id": "Sb4RnwRLUHCr",
        "colab": {
          "base_uri": "https://localhost:8080/"
        },
        "outputId": "8ba6b3d2-5e47-4bfa-dd70-6ceba623f50c"
      },
      "execution_count": 14,
      "outputs": [
        {
          "output_type": "stream",
          "name": "stdout",
          "text": [
            "Top 5 movie IDs recommended for user 196:\n",
            "Movie ID: 173, Predicted Rating: 4.35\n",
            "Movie ID: 153, Predicted Rating: 4.30\n",
            "Movie ID: 286, Predicted Rating: 4.06\n",
            "Movie ID: 116, Predicted Rating: 3.95\n",
            "Movie ID: 70, Predicted Rating: 3.67\n"
          ]
        }
      ]
    }
  ]
}